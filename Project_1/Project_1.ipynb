{
 "cells": [
  {
   "cell_type": "markdown",
   "id": "f589e997-183f-4b0e-afd2-976550249510",
   "metadata": {},
   "source": [
    "<hr>"
   ]
  },
  {
   "cell_type": "markdown",
   "id": "ed3afb5b-f9e9-4ac9-8e0a-540f2980912b",
   "metadata": {},
   "source": [
    "<h4 style = \"text-align: center; font-family:times;\"> <b> Escola de Engenharia de São Carlos </b></h4>\n",
    "<h4 style = \"text-align: center; font-family:times;\"> <b> Universiade de São Paulo </b></h4>\n",
    "<h4 style = \"text-align: center; font-family:times;\"> <b> Pesquisa Operacional I </b></h4>\n",
    "\n",
    "<br>\n",
    "<br>\n",
    "\n",
    "<h1 style = \"text-align: center; font-family:times;\"> <b> Projeto 1: Otimização da Produção de Rolos de Papel </b> <h1/>\n",
    "    \n",
    "<br>\n",
    "<br>\n",
    "<br>\n",
    "<br>\n",
    "     \n",
    "<h4 style = \"text-align: left; font-family:times;\"> Gabriel de Almeida Miki &nbsp &nbsp &nbsp &nbsp <b> nUSP: 11802760 </b></h4>"
   ]
  },
  {
   "cell_type": "markdown",
   "id": "7355e62a-e789-487c-9fcf-85cfb1274965",
   "metadata": {},
   "source": [
    "<hr>"
   ]
  },
  {
   "cell_type": "markdown",
   "id": "bccce576-86c2-4ae1-bfc8-27de87cafd32",
   "metadata": {},
   "source": [
    "<div style = \"border: 2px solid black; padding: 10px; color: black; background-color: white;text-align: center; vertical-align:middle; font-family:times;\">\n",
    "    <h3>Problema proposto</h3>\n",
    "</div>"
   ]
  },
  {
   "cell_type": "markdown",
   "id": "6acb294b-8d2e-4e50-9a83-d0f5e08baf92",
   "metadata": {},
   "source": [
    "<p style = \"text-align: center;\"> <img src = \"problma_proposto.png\"> </p> "
   ]
  },
  {
   "cell_type": "markdown",
   "id": "9bc507b8-51e0-4129-8af2-83a398393c92",
   "metadata": {},
   "source": [
    "<hr>"
   ]
  },
  {
   "cell_type": "markdown",
   "id": "7bc42e9e-c359-4df8-b6ee-d5022d131f50",
   "metadata": {},
   "source": [
    "<div style = \"border: 2px solid black; padding: 10px; color: black; background-color: white;text-align: center; vertical-align:middle; font-family:times;\">\n",
    "    <h3> 1. Introdução </h3>\n",
    "</div>"
   ]
  },
  {
   "cell_type": "markdown",
   "id": "9c6fa4ef-d13a-46d6-9a58-ebd0ea176870",
   "metadata": {},
   "source": [
    "<h4 style = \"font-family:times;\"> <b> <em> 1.1 Pesquisa Operacional: Definição </em> </b> </h4>"
   ]
  },
  {
   "cell_type": "markdown",
   "id": "592da1c2-b5c7-4d0c-ba82-ed9e9f39d54e",
   "metadata": {},
   "source": [
    "<p style = \"font-family:times; text-align: justify\"> &nbsp &nbsp &nbsp &nbsp &nbsp &nbsp  Pode-se conceituar a Pesquisa Operacional como um método científico para tomada de decisões. Essa metodologia utiliza várias técnicas e modelos matemáticos, dentre eles tem-se, por exemplo: Teoria das Filas, Programação Dinâmica e Simulação Monte Carlo. </p>\n",
    "\n",
    "<p style = \"font-family:times; text-align: justify\"> &nbsp &nbsp &nbsp &nbsp &nbsp &nbsp A pesquisa operacional busca encontrar a solução ótima, a melhor alternativa entre todas as opções disponíveis para um determinado problema. Os problemas de Pesquisa Operacional podem ser de maximização ou de minimização. </p>"
   ]
  },
  {
   "cell_type": "markdown",
   "id": "867d21c4-b406-4ecd-b1ff-d75f2c9b90ca",
   "metadata": {},
   "source": [
    "<h4 style = \"font-family:times;\"> <b> <em> 1.2 Formulação do Problema </em> </b> </h4>"
   ]
  },
  {
   "cell_type": "markdown",
   "id": "7853b88c-8c81-429d-a205-811debb099ec",
   "metadata": {},
   "source": [
    "<p style = \"font-family:times; text-align: justify\"> &nbsp &nbsp &nbsp &nbsp &nbsp &nbsp Para poder aplicar a Programação Linear nos problemas e análises, necessita-se executar duas etapas: (1) formulação do modelo matemático e (2) resolução. </p>\n",
    "\n",
    "\n",
    "<p style = \"font-family:times; text-align: justify\"> &nbsp &nbsp &nbsp &nbsp &nbsp &nbsp Na etapa de formulação, é imperativo transformar o problema em um modelo matemático. Já na etapa de resolução, é necessário aplicar as técnicas de PO no modelo e encontrar a solução ótima. </p>\n",
    "\n",
    "<p style = \"font-family:times;\"> &nbsp &nbsp &nbsp &nbsp &nbsp &nbsp Para realizar a modelagem, é preciso responder três perguntas importantes: \n",
    "<ul style = \"font-family:times;\">\n",
    "    <li> Qual é o objetivo? </li>\n",
    "    <li> Quais são as variáveis de decisão? </li>\n",
    "    <li> Quais são as restrições? </li>\n",
    "</ul> </p>\n",
    "\n",
    "<p style = \"font-family:times;\"> &nbsp &nbsp &nbsp &nbsp &nbsp &nbsp O modelo matemático de programação linear pode ser expresso da seguinte forma: </p>\n",
    "\n",
    "<p style = \"text-align: center; font-family:times;\">  $ Objetivo $ <br> </p>\n",
    "<p style = \"text-align: center; font-family:times;\">  $$ Restrições \\begin{cases} Restrição 1 \\\\\n",
    "                                                                    Restrição 2 \\\\\n",
    "                                                                    ... \\\\\n",
    "                                                                    Restrição N\n",
    "                                                                    \\end{cases} $$ </p>"
   ]
  },
  {
   "cell_type": "markdown",
   "id": "3dd32865-40c9-4a97-ae80-d097b19f95c8",
   "metadata": {},
   "source": [
    "<h4 style = \"font-family:times;\"> <b> <em> 1.3 Programação Linear </em> </b> </h4>"
   ]
  },
  {
   "cell_type": "markdown",
   "id": "8b8e3a61-fe29-4016-a920-578cbcc37d07",
   "metadata": {},
   "source": [
    "<p style = \"font-family:times; text-align: justify\"> &nbsp &nbsp &nbsp &nbsp &nbsp &nbsp A programação linear compõem-se de métodos deteminísticos diretos otimizantes e é aplicável a problemas restritos de otimização linear. Os métodos da PL resolvel, dentre vários, os problemas de alocação de recursos, de programação da produção, de composição do produto, de mix de produção e de transportes. </p>"
   ]
  },
  {
   "cell_type": "markdown",
   "id": "24268f23-4087-4fed-9481-0a371871084e",
   "metadata": {},
   "source": [
    "<hr>"
   ]
  },
  {
   "cell_type": "markdown",
   "id": "a49d426a-2d5c-4c20-bfc6-f136a6cb9773",
   "metadata": {},
   "source": [
    "<div style = \"border: 2px solid black; padding: 10px; color: black; background-color: white;text-align: center; vertical-align:middle; font-family:times;\">\n",
    "    <h3> 2. Estudo do Problema </h3>\n",
    "</div>"
   ]
  },
  {
   "cell_type": "markdown",
   "id": "0fceac12-8b40-45ed-9976-805451d6848f",
   "metadata": {},
   "source": [
    "<h4 style = \"font-family:times;\"> <b> <em> 2.1 Decrição do problema e concepção de modelagem </em> </b> </h4>"
   ]
  },
  {
   "cell_type": "markdown",
   "id": "ee39199a-aed5-474c-9af2-2f1b2c18df6e",
   "metadata": {},
   "source": [
    "<p style = \"font-family:times;text-align: justify\"> &nbsp &nbsp &nbsp &nbsp &nbsp &nbsp Dado que os pedidos de rolos possuem tamanhos significativamente menores do que a dimensão padrão produzida, há várias maneiras de cortar um rolo padronizado para atender a um determinado pedido. </p>\n",
    "\n",
    "<p style = \"font-family:times; text-align: justify\"> &nbsp &nbsp &nbsp &nbsp &nbsp &nbsp A melhor das combinações de corte será, portanto, aquela que reduzir a perda de material produzido. Como as sobras dos rolos, no entanto, podem ter larguras diferentes é mais eficaz avaliar a área perdida por combinação de corte.  </p>\n",
    "\n",
    "<div style = \"border: 1px solid black; padding: 10px; color: black; background-color: white;text-align: left; vertical-align: middle; font-family:times;\">\n",
    "&nbsp &nbsp &nbsp &nbsp &nbsp <b> Modelagem: </b> Determinar a combinação de cortes que atenda as demandas com a mínima área de perda possível.\n",
    "</div>"
   ]
  },
  {
   "cell_type": "markdown",
   "id": "db4aae8f-ad7a-43a8-b457-f8ecb5ad34a6",
   "metadata": {},
   "source": [
    "<h4 style = \"font-family:times;\"> <b> <em> 2.2 Abordagem </em> </b> </h4>"
   ]
  },
  {
   "cell_type": "markdown",
   "id": "6d206807-fd6e-47f5-964b-4640f9a37c57",
   "metadata": {},
   "source": [
    "<p style = \"font-family:times; text-align: justify\"> &nbsp &nbsp &nbsp &nbsp &nbsp &nbsp A fim de se determinar a melhor configuração dos cortes é necessário expor todas as variáveis possíveis.  </p>\n",
    "\n",
    "<br>\n",
    "\n",
    "<table style = \"text-align: center; vertical-align: center; font-family:times; background-color: white; width: 100%;\">\n",
    "\n",
    "<tr> \n",
    "    <th colspan = \"8\" style = \"border-bottom: 1px solid #ddd; text-align: left\"> Tabela 1 - Configurações de corte e suas respectivas perdas </th> \n",
    "</tr>\n",
    "    \n",
    "<tr style = \"background-color: white\"> \n",
    "    <th> &nbsp; </th> <th colspan = \"6\" style = \"border-bottom: 1px solid #ddd;\"> Configuração dos Cortes </th> <th> &nbsp; </th>\n",
    "</tr>\n",
    "        \n",
    "<tr style = \"border-bottom: 1px solid #ddd; background-color: white\"> \n",
    "<th> Largura do Pedido </th> <td> 1 </td> <td> 2 </td> <td> 3 </td> <td> 4 </td> <td> 5 </td> <td> 6 </td> <td> Demandas </td>\n",
    "</tr>\n",
    "  \n",
    "<tr style = \"background-color: white\"> \n",
    "<th> 5 </th> <td> 0 </td> <td> 2 </td> <td> 2 </td> <td> 4 </td> <td> 1 </td> <td> 0 </td> <td> 150 </td>\n",
    "</tr>\n",
    "    \n",
    "<tr style = \"background-color: white\"> \n",
    "<th> 7 </th> <td> 1 </td> <td> 1 </td> <td> 0 </td> <td> 0 </td> <td> 2 </td> <td> 0 </td> <td> 200 </td>\n",
    "</tr>\n",
    "    \n",
    "<tr style = \"border-bottom: 1px solid #ddd; background-color: white\"> \n",
    "<th> 9 </th> <td> 1 </td> <td> 0 </td> <td> 1 </td> <td> 0 </td> <td> 0 </td> <td> 2 </td> <td> 300 </td>\n",
    "</tr>\n",
    "    \n",
    "<tr style = \"border-bottom: 1px solid #ddd; background-color: white\"> \n",
    "<th> Perda ($ \\frac{metros}{corte} $) </th> <td> 4 </td> <td> 3 </td> <td> 1 </td> <td> 0 </td> <td> 1 </td> <td> 2 </td> <td> &nbsp; </td>\n",
    "</tr>\n",
    "        \n",
    "</table>\n",
    "\n",
    "<br>\n",
    "\n",
    "<p style = \"font-family:times; text-align: justify\"> &nbsp &nbsp &nbsp &nbsp &nbsp &nbsp Dessa forma, as variáveis são: </p>\n",
    "\n",
    "<br>\n",
    "\n",
    "<p style = \"font-family:times; text-align: center\"> $ x_{i} $ é o número de rolos resultante das diferentes configurações de corte $ i, i = 1, 2, ..., 6 $ </p>\n",
    "\n",
    "<br>\n",
    "\n",
    "<p style = \"font-family:times;\"> &nbsp &nbsp &nbsp &nbsp &nbsp &nbsp Quanto as restrições, tem-se: </p>\n",
    "\n",
    "<br>\n",
    "\n",
    "<p style = \"font-family:times; text-align: center\"> Número de rolos de cinco metros produzidos $ = 2x_{2} + 2x_{3} + 4x_{4} + x_{5} \\ge 150 $ </p>\n",
    "\n",
    "<p style = \"font-family:times; text-align: center\"> Número de rolos de sete metros produzidos $ = x_{1} + x_{2} + 2x_{5} \\ge 200 $ </p>\n",
    "\n",
    "<p style = \"font-family:times; text-align: center\"> Número de rolos de nove metros produzidos $ = x_{1} + x_{3} + 2x_{6} \\ge 300 $ </p>\n",
    "\n",
    "<br>\n",
    "\n",
    "<p style = \"font-family:times; text-align: justify\"> &nbsp &nbsp &nbsp &nbsp &nbsp &nbsp Por fim, no que tange a função objetivo, a área total de perda é dada pela subtração da área total de rolor padronizados usad pela área que representa todos os pedidos. </p>\n",
    "\n",
    "<br>\n",
    "\n",
    "<p style = \"font-family:times; text-align: center\"> Área total dos rolos padronizados $ = 20 L (x_{1} + x_{2} + x_{3} + x_{4} + x_{5} + x_{6}) $ </p>\n",
    "\n",
    "<p style = \"font-family:times; text-align: center\"> Área total da demanda $ = L (150 \\cdot 5 + 200 \\cdot 7 + 300 \\cdot 9) $ </p>\n",
    "\n",
    "<br>\n",
    "\n",
    "<p style = \"font-family:times; text-align: justify\"> &nbsp &nbsp &nbsp &nbsp &nbsp &nbsp Dessa forma a função objetivo se torna: </p>\n",
    "\n",
    "<br>\n",
    "\n",
    "<p style = \"font-family:times; text-align: center\"> Minimizar $ z = 20 L (x_{1} + x_{2} + x_{3} + x_{4} + x_{5} + x_{6}) - 4.850 L $ </p>\n",
    "\n",
    "<br>\n",
    "\n",
    "<p style = \"font-family:times; text-align: justify\"> &nbsp &nbsp &nbsp &nbsp &nbsp &nbsp E, finalmente, dado que $ L $ é uma constante. </p>\n",
    "\n",
    "<br>\n",
    "\n",
    "<p style = \"font-family:times; text-align: center\"> Minimizar $ z = x_{1} + x_{2} + x_{3} + x_{4} + x_{5} + x_{6} $ </p>"
   ]
  },
  {
   "cell_type": "markdown",
   "id": "603cc7a6-9567-4f26-9f76-08521ab5f630",
   "metadata": {},
   "source": [
    "<h4 style = \"font-family:times;\"> <b> <em> 2.3 Modelo Final </em> </b> </h4>"
   ]
  },
  {
   "cell_type": "markdown",
   "id": "68139b29-58c7-41a6-a60e-2e5bb663d727",
   "metadata": {},
   "source": [
    "<div style = \"border: 1px solid black; padding: 10px; color: black; background-color: white;text-align: left; vertical-align: middle; font-family:times;\">\n",
    "<b> Modelagem Final: </b> \n",
    "    \n",
    "<p style = \"font-family:times; text-align: center\"> Minimizar $ z = x_{1} + x_{2} + x_{3} + x_{4} + x_{5} + x_{6} $ </p>\n",
    "    \n",
    "<p style = \"font-family:times; text-align: left\"> &nbsp &nbsp &nbsp &nbsp &nbsp Sujeito a: </p>\n",
    "    \n",
    "<p style = \"font-family:times; text-align: center\"> $ 2x_{2} + 2x_{3} + 4x_{4} + x_{5} \\ge 150 $ </p>\n",
    "\n",
    "<p style = \"font-family:times; text-align: center\"> $ x_{1} + x_{2} + 2x_{5} \\ge 200 $ </p>\n",
    "\n",
    "<p style = \"font-family:times; text-align: center\"> $ x_{1} + x_{3} + 2x_{6} \\ge 300 $ </p>\n",
    "   \n",
    "<p style = \"font-family:times; text-align: center\"> $ x_{1}, x_{2}, x_{3}, x_{4}, x_{5}, x_{6} \\ge 0 $ </p> \n",
    "    \n",
    "</div>"
   ]
  },
  {
   "cell_type": "markdown",
   "id": "43bb6f06-2b3e-4f31-a4cd-2929055328fd",
   "metadata": {},
   "source": [
    "<hr>"
   ]
  },
  {
   "cell_type": "markdown",
   "id": "0931e2e0-15a3-4313-b939-47605110f7ee",
   "metadata": {},
   "source": [
    "<div style = \"border: 2px solid black; padding: 10px; color: black; background-color: white;text-align: center; vertical-align:middle; font-family:times;\">\n",
    "    <h3> 3. Resultados e Discussão </h3>\n",
    "</div>"
   ]
  },
  {
   "cell_type": "code",
   "execution_count": 12,
   "id": "7d361f25-a29d-496f-9bca-6aaea5567d7f",
   "metadata": {},
   "outputs": [],
   "source": [
    "import pulp\n",
    "import pandas as pd\n",
    "import numpy as np"
   ]
  },
  {
   "cell_type": "code",
   "execution_count": 13,
   "id": "0a107ffe-4d1f-428c-bb88-9e181bd9cb01",
   "metadata": {},
   "outputs": [],
   "source": [
    "class otimizaProducao():\n",
    "    \n",
    "    def __init__(self):\n",
    "        \n",
    "        # =========================================================================================\n",
    "        # Define as variaveis necessarias para a defineProblem. Primeiramente o nome do problema,\n",
    "        # seguido do objetivo do mesmo (minimizar/maximizar)\n",
    "        # =========================================================================================\n",
    "        \n",
    "        self._problemName = str()\n",
    "        self._problemObjective = str()\n",
    "        \n",
    "        # ==========================================================================================\n",
    "        # Define as variaveis necessarias para a defineVariables. Primeiramente a lista de variáveis\n",
    "        # do problema, seguido dos coeficientes do mesmo e, por fim, o nome das variaveis\n",
    "        # ==========================================================================================\n",
    "        \n",
    "        self._modelVariables = list()\n",
    "        self._modelCoefs = []\n",
    "        \n",
    "        self._modelVariebleName = str()\n",
    "        \n",
    "        # ==========================================================================================\n",
    "        # Parametros finais da modelagem (defineObjective). Primeiramente os coeficientes da fncao\n",
    "        # objetivo em seguida a variavel a armazenar o modelo final\n",
    "        # ==========================================================================================        \n",
    "        \n",
    "        self._objectiveCoefs = list()\n",
    "\n",
    "        self._modelFinal = pulp.pulp.LpProblem\n",
    "\n",
    "    def defineProblem(self):\n",
    "        \n",
    "        # ==========================================================================================\n",
    "        # Fornece valores para as definicoes e objetivos do modelo\n",
    "        # ==========================================================================================\n",
    "\n",
    "        self._problemName = input(\"\\nInsira o nome do problema a ser análisado: \")\n",
    "        self._problemObjective = input(\"\\nDeseja minimizar ou maximizar a funcao objetivo (a ser definida): \")\n",
    "        \n",
    "        if (self._problemObjective.lower() == 'minimizar'):\n",
    "            return pulp.LpProblem(self._problemName, pulp.LpMinimize), False\n",
    "        \n",
    "        elif (self._problemObjective.lower() == 'maximizar'):\n",
    "            return pulp.LpProblem(self._problemName, pulp.LpMaximize), False \n",
    "            \n",
    "        else:\n",
    "            print(\"\\nValor nao valido. Inserir 'Minimizar' ou 'Maximizar'\\n\")\n",
    "            \n",
    "            return _, True\n",
    "        \n",
    "    def defineVariables(self):\n",
    "        \n",
    "        # ===========================================================================================\n",
    "        # Fornece nomes e valores de coeficientes para as variaveis das equacoes das restricoes\n",
    "        # ===========================================================================================\n",
    "        \n",
    "        self._modelVariebleName = input(\"\\nInsira o nome das variáveis: \")\n",
    "        \n",
    "        n_variables = int(input(\"\\nInsira o numero de variaveis no modelo: \"))\n",
    "        \n",
    "        for i in range(n_variables):\n",
    "            self._modelVariables.append(\"x_\" + str(i + 1))\n",
    "            \n",
    "        n_restrictions = int(input(\"\\nInsira o numero de restricoes no modelo: \"))\n",
    "        self._modelCoefs = np.zeros((n_restrictions, n_variables))\n",
    "        \n",
    "        for linha in range(n_restrictions):\n",
    "            for coluna in range(n_variables):\n",
    "                self._modelCoefs[linha, coluna] = input((\"\\nInsira o coeficiente da restricao \" + \n",
    "                                                         str(linha + 1) + \" que acompanha a variavel x_\" + \n",
    "                                                         str(coluna + 1) + \" no model modelo: \"))\n",
    "                \n",
    "        return pulp.LpVariable.dict(self._modelVariebleName, self._modelVariables, \n",
    "                                    lowBound = 0, cat = \"Integer\")\n",
    "                \n",
    "    def defineObjective(self):\n",
    "        \n",
    "        # ===========================================================================================\n",
    "        # Fornece os coeficientes da funcao objetivo\n",
    "        # ===========================================================================================\n",
    "        \n",
    "        n_coefsFuncObj = int(input(\"\\nInsira o numero de coeficientes na funcao objetivo: \"))\n",
    "        \n",
    "        for i in range(n_coefsFuncObj):\n",
    "            self._objectiveCoefs.append(float(input((\"\\nInsira o \" + str(i + 1) + \n",
    "                                                     \" coeficiente da funcao objetivo: \"))))\n",
    "            \n",
    "    def main(self):\n",
    "        \n",
    "        # ===========================================================================================\n",
    "        # Usa os métodos criados para deifnir e resolver a otimizacao estabelecida\n",
    "        # ===========================================================================================\n",
    "        \n",
    "        verifier = True\n",
    "        \n",
    "        while (verifier):\n",
    "            \n",
    "            self._modelFinal, verifier = self.defineProblem()\n",
    "            \n",
    "        decisionVariables = self.defineVariables()\n",
    "        \n",
    "        self.defineObjective()\n",
    "        \n",
    "        self._modelFinal += pulp.lpSum([decisionVariables[i] for i in self._modelVariables])\n",
    "        \n",
    "        for restriction in range(self._modelCoefs.shape[0]):\n",
    "            restrictionValue = float(input((\"\\nInsira o valor da \" + str(restriction + 1) + \n",
    "                                            \" retricao na funcao objetivo: \")))\n",
    "                        \n",
    "            self._modelFinal += pulp.lpSum([decisionVariables[self._modelVariables[decVars]] * self._modelCoefs[restriction, decVars]\n",
    "                                            for decVars in range(self._modelCoefs.shape[1])]) >= restrictionValue\n",
    "            \n",
    "        print(\"\\n==============================================================================================================\\n\\n\", \n",
    "              self._modelFinal,\n",
    "              \"\\n==============================================================================================================\\n\")\n",
    "        \n",
    "        print(\"\\n==============================================================================================================\\n\")\n",
    "        self._modelFinal.solve()\n",
    "        print(\"==============================================================================================================\\n\")\n",
    "        \n",
    "        print(\"\\n==============================================================================================================\\n\",\n",
    "              \"\\n-------------------------------------Os resultados para cada configuracao-------------------------------------\\n\")\n",
    "        \n",
    "        for results in self._modelFinal.variables():\n",
    "            print(\" - \", results.name, \" = \", results.varValue, \"\\n\")\n",
    "            \n",
    "        print(\"\\n==============================================================================================================\\n\")"
   ]
  },
  {
   "cell_type": "code",
   "execution_count": 14,
   "id": "08cdd319-efc0-4f6c-a3f8-e0c1c8279503",
   "metadata": {},
   "outputs": [
    {
     "name": "stdin",
     "output_type": "stream",
     "text": [
      "\n",
      "Insira o nome do problema a ser análisado:  Otimiza_Producao_Rolos_de_Papel\n",
      "\n",
      "Deseja minimizar ou maximizar a funcao objetivo (a ser definida):  minimizar\n",
      "\n",
      "Insira o nome das variáveis:  corte_config\n",
      "\n",
      "Insira o numero de variaveis no modelo:  6\n",
      "\n",
      "Insira o numero de restricoes no modelo:  3\n",
      "\n",
      "Insira o coeficiente da restricao 1 que acompanha a variavel x_1 no model modelo:  0\n",
      "\n",
      "Insira o coeficiente da restricao 1 que acompanha a variavel x_2 no model modelo:  2\n",
      "\n",
      "Insira o coeficiente da restricao 1 que acompanha a variavel x_3 no model modelo:  2\n",
      "\n",
      "Insira o coeficiente da restricao 1 que acompanha a variavel x_4 no model modelo:  4\n",
      "\n",
      "Insira o coeficiente da restricao 1 que acompanha a variavel x_5 no model modelo:  1\n",
      "\n",
      "Insira o coeficiente da restricao 1 que acompanha a variavel x_6 no model modelo:  0\n",
      "\n",
      "Insira o coeficiente da restricao 2 que acompanha a variavel x_1 no model modelo:  1\n",
      "\n",
      "Insira o coeficiente da restricao 2 que acompanha a variavel x_2 no model modelo:  1\n",
      "\n",
      "Insira o coeficiente da restricao 2 que acompanha a variavel x_3 no model modelo:  0\n",
      "\n",
      "Insira o coeficiente da restricao 2 que acompanha a variavel x_4 no model modelo:  0\n",
      "\n",
      "Insira o coeficiente da restricao 2 que acompanha a variavel x_5 no model modelo:  2\n",
      "\n",
      "Insira o coeficiente da restricao 2 que acompanha a variavel x_6 no model modelo:  0\n",
      "\n",
      "Insira o coeficiente da restricao 3 que acompanha a variavel x_1 no model modelo:  1\n",
      "\n",
      "Insira o coeficiente da restricao 3 que acompanha a variavel x_2 no model modelo:  0\n",
      "\n",
      "Insira o coeficiente da restricao 3 que acompanha a variavel x_3 no model modelo:  1\n",
      "\n",
      "Insira o coeficiente da restricao 3 que acompanha a variavel x_4 no model modelo:  0\n",
      "\n",
      "Insira o coeficiente da restricao 3 que acompanha a variavel x_5 no model modelo:  0\n",
      "\n",
      "Insira o coeficiente da restricao 3 que acompanha a variavel x_6 no model modelo:  2\n",
      "\n",
      "Insira o numero de coeficientes na funcao objetivo:  6\n",
      "\n",
      "Insira o 1 coeficiente da funcao objetivo:  1\n",
      "\n",
      "Insira o 2 coeficiente da funcao objetivo:  1\n",
      "\n",
      "Insira o 3 coeficiente da funcao objetivo:  1\n",
      "\n",
      "Insira o 4 coeficiente da funcao objetivo:  1\n",
      "\n",
      "Insira o 5 coeficiente da funcao objetivo:  1\n",
      "\n",
      "Insira o 6 coeficiente da funcao objetivo:  1\n",
      "\n",
      "Insira o valor da 1 retricao na funcao objetivo:  150\n",
      "\n",
      "Insira o valor da 2 retricao na funcao objetivo:  200\n",
      "\n",
      "Insira o valor da 3 retricao na funcao objetivo:  300\n"
     ]
    },
    {
     "name": "stdout",
     "output_type": "stream",
     "text": [
      "\n",
      "==============================================================================================================\n",
      "\n",
      " Otimiza_Producao_Rolos_de_Papel:\n",
      "MINIMIZE\n",
      "1*corte_config_x_1 + 1*corte_config_x_2 + 1*corte_config_x_3 + 1*corte_config_x_4 + 1*corte_config_x_5 + 1*corte_config_x_6 + 0\n",
      "SUBJECT TO\n",
      "_C1: 2 corte_config_x_2 + 2 corte_config_x_3 + 4 corte_config_x_4\n",
      " + corte_config_x_5 >= 150\n",
      "\n",
      "_C2: corte_config_x_1 + corte_config_x_2 + 2 corte_config_x_5 >= 200\n",
      "\n",
      "_C3: corte_config_x_1 + corte_config_x_3 + 2 corte_config_x_6 >= 300\n",
      "\n",
      "VARIABLES\n",
      "0 <= corte_config_x_1 Integer\n",
      "0 <= corte_config_x_2 Integer\n",
      "0 <= corte_config_x_3 Integer\n",
      "0 <= corte_config_x_4 Integer\n",
      "0 <= corte_config_x_5 Integer\n",
      "0 <= corte_config_x_6 Integer\n",
      " \n",
      "==============================================================================================================\n",
      "\n",
      "\n",
      "==============================================================================================================\n",
      "\n",
      "Welcome to the CBC MILP Solver \n",
      "Version: 2.10.3 \n",
      "Build Date: Dec 15 2019 \n",
      "\n",
      "command line - /opt/anaconda3/lib/python3.8/site-packages/pulp/apis/../solverdir/cbc/osx/64/cbc /var/folders/xc/pt5c14vd1ylgywb_0q1bml0r0000gn/T/d89f9d1cc3024a45a9d46d8153762414-pulp.mps timeMode elapsed branch printingOptions all solution /var/folders/xc/pt5c14vd1ylgywb_0q1bml0r0000gn/T/d89f9d1cc3024a45a9d46d8153762414-pulp.sol (default strategy 1)\n",
      "At line 2 NAME          MODEL\n",
      "At line 3 ROWS\n",
      "At line 8 COLUMNS\n",
      "At line 37 RHS\n",
      "At line 41 BOUNDS\n",
      "At line 48 ENDATA\n",
      "Problem MODEL has 3 rows, 6 columns and 10 elements\n",
      "Coin0008I MODEL read with 0 errors\n",
      "Option for timeMode changed from cpu to elapsed\n",
      "Continuous objective value is 262.5 - 0.00 seconds\n",
      "Cgl0003I 0 fixed, 6 tightened bounds, 0 strengthened rows, 0 substitutions\n",
      "Cgl0004I processed model has 3 rows, 6 columns (6 integer (0 of which binary)) and 10 elements\n",
      "Cutoff increment increased from 1e-05 to 0.9999\n",
      "Cbc0012I Integer solution of 263 found by greedy cover after 0 iterations and 0 nodes (0.01 seconds)\n",
      "Cbc0001I Search completed - best objective 263, took 0 iterations and 0 nodes (0.02 seconds)\n",
      "Cbc0035I Maximum depth 0, 0 variables fixed on reduced cost\n",
      "Cuts at root node changed objective from 262.5 to 262.5\n",
      "Probing was tried 0 times and created 0 cuts of which 0 were active after adding rounds of cuts (0.000 seconds)\n",
      "Gomory was tried 0 times and created 0 cuts of which 0 were active after adding rounds of cuts (0.000 seconds)\n",
      "Knapsack was tried 0 times and created 0 cuts of which 0 were active after adding rounds of cuts (0.000 seconds)\n",
      "Clique was tried 0 times and created 0 cuts of which 0 were active after adding rounds of cuts (0.000 seconds)\n",
      "MixedIntegerRounding2 was tried 0 times and created 0 cuts of which 0 were active after adding rounds of cuts (0.000 seconds)\n",
      "FlowCover was tried 0 times and created 0 cuts of which 0 were active after adding rounds of cuts (0.000 seconds)\n",
      "TwoMirCuts was tried 0 times and created 0 cuts of which 0 were active after adding rounds of cuts (0.000 seconds)\n",
      "ZeroHalf was tried 0 times and created 0 cuts of which 0 were active after adding rounds of cuts (0.000 seconds)\n",
      "\n",
      "Result - Optimal solution found\n",
      "\n",
      "Objective value:                263.00000000\n",
      "Enumerated nodes:               0\n",
      "Total iterations:               0\n",
      "Time (CPU seconds):             0.00\n",
      "Time (Wallclock seconds):       0.02\n",
      "\n",
      "Option for printingOptions changed from normal to all\n",
      "Total time (CPU seconds):       0.00   (Wallclock seconds):       0.02\n",
      "\n",
      "==============================================================================================================\n",
      "\n",
      "\n",
      "==============================================================================================================\n",
      " \n",
      "-------------------------------------Os resultados para cada configuracao-------------------------------------\n",
      "\n",
      " -  corte_config_x_1  =  0.0 \n",
      "\n",
      " -  corte_config_x_2  =  1.0 \n",
      "\n",
      " -  corte_config_x_3  =  0.0 \n",
      "\n",
      " -  corte_config_x_4  =  12.0 \n",
      "\n",
      " -  corte_config_x_5  =  100.0 \n",
      "\n",
      " -  corte_config_x_6  =  150.0 \n",
      "\n",
      "\n",
      "==============================================================================================================\n",
      "\n"
     ]
    }
   ],
   "source": [
    "otimizaRolosDePapel = otimizaProducao()\n",
    "\n",
    "otimizaRolosDePapel.main()"
   ]
  },
  {
   "cell_type": "markdown",
   "id": "4dc7e853-99a1-40a7-8413-f07e68ec3ced",
   "metadata": {},
   "source": [
    "<hr>"
   ]
  },
  {
   "cell_type": "markdown",
   "id": "1cf6deaa-5922-4b73-bf64-c70484cb8f79",
   "metadata": {},
   "source": [
    "<div style = \"border: 2px solid black; padding: 10px; color: black; background-color: white;text-align: center; vertical-align:middle; font-family:times;\">\n",
    "    <h3> 4. Conclusões </h3>\n",
    "</div>"
   ]
  },
  {
   "cell_type": "markdown",
   "id": "a08a9e02-3c51-4071-bf0e-90e8abb8cf45",
   "metadata": {},
   "source": [
    "<h4 style = \"font-family:times;\"> <b> <em> 4.1 Biblioteca Utilizada </em> </b> </h4>"
   ]
  },
  {
   "cell_type": "markdown",
   "id": "212c5476-c8b3-4847-807a-8e7e002e7a99",
   "metadata": {},
   "source": [
    "<p style = \"font-family:times; text-align: justify\"> &nbsp &nbsp &nbsp &nbsp &nbsp &nbsp PuLP é uma biblioteca para a linguagem Python que permite aos usuários descrever programas matemáticos. A biblioteca funciona inteiramente dentro da sintaxe e expressões idiomáticas naturais da linguagem Python, fornecendo objetos que representam problemas de otimização e variáveis de decisão, e permitindo que restrições sejam estabelecidas de uma forma muito semelhante à expressão matemática original.  </p>"
   ]
  },
  {
   "cell_type": "markdown",
   "id": "bdb6e0a7-90ee-44ce-98ff-254f03c9b19d",
   "metadata": {},
   "source": [
    "<h4 style = \"font-family:times;\"> <b> <em> 4.2 Resultados </em> </b> </h4>"
   ]
  },
  {
   "cell_type": "markdown",
   "id": "36d4b472-dafc-466d-b217-9ec184d4ade6",
   "metadata": {},
   "source": [
    "<p style = \"font-family:times; text-align: justify\"> &nbsp &nbsp &nbsp &nbsp &nbsp &nbsp Como visto a modelagem e resolução idicam o uso das configurações dois, quatro, cinco e seis. A partir do uso de tais configurações segundo as quantidades indicadas, e tomando como base a Tabela 1 anterior tem-se: </p>\n",
    "\n",
    "<table style = \"text-align: center; vertical-align: center; font-family:times; background-color: white; width: 100%;\">\n",
    "\n",
    "<tr> \n",
    "    <th colspan = \"8\" style = \"border-bottom: 1px solid #ddd; text-align: left\"> Tabela 2 - Análise dos resultados finais </th> \n",
    "</tr>\n",
    "    \n",
    "<tr style = \"background-color: white\"> \n",
    "    <th> &nbsp; </th> <th colspan = \"6\" style = \"border-bottom: 1px solid #ddd;\"> Quantidades das Configuração dos Cortes </th> <th> &nbsp; </th>\n",
    "</tr>\n",
    "        \n",
    "<tr style = \"border-bottom: 1px solid #ddd; background-color: white\"> \n",
    "<th> Largura do Pedido </th> <td> 0 </td> <td> 1 </td> <td> 0 </td> <td> 12 </td> <td> 100 </td> <td> 150 </td> <td> Total Produzido </td>\n",
    "</tr>\n",
    "  \n",
    "<tr style = \"background-color: white\"> \n",
    "<th> 5 </th> <td> 0 </td> <td> 2 </td> <td> 2 </td> <td> 4 </td> <td> 1 </td> <td> 0 </td> <td> 150 </td>\n",
    "</tr>\n",
    "    \n",
    "<tr style = \"background-color: white\"> \n",
    "<th> 7 </th> <td> 1 </td> <td> 1 </td> <td> 0 </td> <td> 0 </td> <td> 2 </td> <td> 0 </td> <td> 201 </td>\n",
    "</tr>\n",
    "    \n",
    "<tr style = \"border-bottom: 1px solid #ddd; background-color: white\"> \n",
    "<th> 9 </th> <td> 1 </td> <td> 0 </td> <td> 1 </td> <td> 0 </td> <td> 0 </td> <td> 2 </td> <td> 300 </td>\n",
    "</tr>\n",
    "    \n",
    "<tr style = \"border-bottom: 1px solid #ddd; background-color: white\"> \n",
    "<th> Perda Total ($ metros $) </th> <td> 0 </td> <td> 3 </td> <td> 0 </td> <td> 0 </td> <td> 100 </td> <td> 300 </td> <td> &nbsp; </td>\n",
    "</tr>\n",
    "        \n",
    "</table>\n",
    "\n",
    "<p style = \"font-family:times; text-align: justify\"> &nbsp &nbsp &nbsp &nbsp &nbsp &nbsp Logo, como obsevado, obteve-se uma perda total de quatrocentos e três metros, além de um rolo a mais de sete metros que poderia contabilizar uma perda real de quatrocentos e dez metros. </p>"
   ]
  },
  {
   "cell_type": "markdown",
   "id": "e9e7abbf-482e-4cf3-a3e9-7aa42bf7d2f2",
   "metadata": {},
   "source": [
    "<hr>"
   ]
  },
  {
   "cell_type": "markdown",
   "id": "0e32ec33-321d-4b45-abe5-18076b878eae",
   "metadata": {},
   "source": [
    "<div style = \"border: 2px solid black; padding: 10px; color: black; background-color: white;text-align: center; vertical-align:middle; font-family:times;\">\n",
    "    <h3> 5. Referências </h3>\n",
    "</div>"
   ]
  },
  {
   "cell_type": "markdown",
   "id": "c9a623af-bca1-41cd-9d8b-2657fad6bcb3",
   "metadata": {},
   "source": [
    "<ol style = \"font-family:times;\">\n",
    "    <li> http://www.edufu.ufu.br/sites/edufu.ufu.br/files/e-book_aprendendo_a_decidir_2015_0.pdf¶ </li>\n",
    "    <li> http://arquivos.eadadm.ufsc.br/EaDADM/UAB_2014_2/Modulo_4/Pesquisa_Operacional/Pesquisa%20operacional%203ed.pdf </li>\n",
    "    <li> https://repositorio.ufscar.br/bitstream/handle/ufscar/14483/TCC%20-%20Giovanni%20Brogiato.pdf?sequence=1&isAllowed=y </li>\n",
    "</ol>"
   ]
  },
  {
   "cell_type": "markdown",
   "id": "9d6beef5-22e1-438a-8590-b736b7440bbe",
   "metadata": {},
   "source": [
    "<hr>"
   ]
  }
 ],
 "metadata": {
  "kernelspec": {
   "display_name": "Python 3 (ipykernel)",
   "language": "python",
   "name": "python3"
  },
  "language_info": {
   "codemirror_mode": {
    "name": "ipython",
    "version": 3
   },
   "file_extension": ".py",
   "mimetype": "text/x-python",
   "name": "python",
   "nbconvert_exporter": "python",
   "pygments_lexer": "ipython3",
   "version": "3.8.12"
  }
 },
 "nbformat": 4,
 "nbformat_minor": 5
}
